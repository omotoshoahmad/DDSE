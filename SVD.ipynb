{
  "nbformat": 4,
  "nbformat_minor": 0,
  "metadata": {
    "colab": {
      "provenance": [],
      "authorship_tag": "ABX9TyNl3JxNwhun0hFkcQug/EhV",
      "include_colab_link": true
    },
    "kernelspec": {
      "name": "python3",
      "display_name": "Python 3"
    },
    "language_info": {
      "name": "python"
    }
  },
  "cells": [
    {
      "cell_type": "markdown",
      "metadata": {
        "id": "view-in-github",
        "colab_type": "text"
      },
      "source": [
        "<a href=\"https://colab.research.google.com/github/omotoshoahmad/DDSE/blob/main/SVD.ipynb\" target=\"_parent\"><img src=\"https://colab.research.google.com/assets/colab-badge.svg\" alt=\"Open In Colab\"/></a>"
      ]
    },
    {
      "cell_type": "code",
      "execution_count": null,
      "metadata": {
        "id": "aEYQQknLjwl4"
      },
      "outputs": [],
      "source": [
        "import numpy as np"
      ]
    },
    {
      "cell_type": "code",
      "source": [
        "# X = np.random.rand(150, 3) # create a random data matrix\n",
        "# U, S, V = np.linalg.svd (X, full_matrices=True) # Full SVD implementation Code\n",
        "# Uhat, Shat, Vhat = np.linalg.svd(X, full_matrices=False) # Economy SVD implementation code\n",
        "\n",
        "# Vhat_row = Vhat[0,:].reshape(1, -1)\n",
        "Uhat_column = Uhat[:,0].reshape(-1,1)\n",
        "\n",
        "# Vhat_row.shape\n",
        "# Uhat_column.shape\n",
        "\n",
        "\n",
        "X_tilda = Shat[0] * (Uhat_column * Vhat_row)\n",
        "\n",
        "\n",
        "\n",
        "# X_tilda is the most important features of the X matrix above\n",
        "# print(X)\n",
        "# print(X_tilda)"
      ],
      "metadata": {
        "id": "IjCuagzcldKS"
      },
      "execution_count": null,
      "outputs": []
    },
    {
      "cell_type": "code",
      "source": [
        "type(Uhat)\n",
        "\n"
      ],
      "metadata": {
        "colab": {
          "base_uri": "https://localhost:8080/"
        },
        "id": "yqaDhJutlpF9",
        "outputId": "4b0fb169-2d7e-45f4-af68-24255e2714dd"
      },
      "execution_count": null,
      "outputs": [
        {
          "output_type": "execute_result",
          "data": {
            "text/plain": [
              "numpy.ndarray"
            ]
          },
          "metadata": {},
          "execution_count": 18
        }
      ]
    },
    {
      "cell_type": "code",
      "source": [
        "## Matrix Approximation (X)\n",
        "\n",
        "Uhat_identity = Uhat_column.T * Uhat_column"
      ],
      "metadata": {
        "id": "psOQBabsnopm"
      },
      "execution_count": null,
      "outputs": []
    },
    {
      "cell_type": "code",
      "source": [
        "Uhat_identity2 = Uhat_column * Uhat_column.T"
      ],
      "metadata": {
        "id": "_s2BrCsZ0l08"
      },
      "execution_count": null,
      "outputs": []
    },
    {
      "cell_type": "code",
      "source": [
        "# Check if it's an identity matrix\n",
        "is_identity = np.array_equal(Uhat_identity2, np.eye(Uhat_identity2.shape[0]))\n",
        "\n",
        "# Print the result\n",
        "if is_identity:\n",
        "    print(\"The matrix is an identity matrix.\")\n",
        "else:\n",
        "    print(\"The matrix is not an identity matrix.\")"
      ],
      "metadata": {
        "colab": {
          "base_uri": "https://localhost:8080/"
        },
        "id": "YQ9eJjc009Za",
        "outputId": "1ca0c1ac-a28b-4a67-ae65-ec4995298af6"
      },
      "execution_count": null,
      "outputs": [
        {
          "output_type": "stream",
          "name": "stdout",
          "text": [
            "The matrix is not an identity matrix.\n"
          ]
        }
      ]
    }
  ]
}